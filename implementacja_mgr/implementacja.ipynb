{
  "nbformat": 4,
  "nbformat_minor": 0,
  "metadata": {
    "colab": {
      "name": "implementacja.ipynb",
      "provenance": [],
      "collapsed_sections": [],
      "include_colab_link": true
    },
    "kernelspec": {
      "display_name": "Python 3",
      "language": "python",
      "name": "python3"
    },
    "language_info": {
      "codemirror_mode": {
        "name": "ipython",
        "version": 3
      },
      "file_extension": ".py",
      "mimetype": "text/x-python",
      "name": "python",
      "nbconvert_exporter": "python",
      "pygments_lexer": "ipython3",
      "version": "3.7.6"
    }
  },
  "cells": [
    {
      "cell_type": "markdown",
      "metadata": {
        "id": "view-in-github",
        "colab_type": "text"
      },
      "source": [
        "<a href=\"https://colab.research.google.com/github/kazzzz65/myRepository/blob/master/implementacja.ipynb\" target=\"_parent\"><img src=\"https://colab.research.google.com/assets/colab-badge.svg\" alt=\"Open In Colab\"/></a>"
      ]
    },
    {
      "cell_type": "markdown",
      "metadata": {
        "id": "7lcUhGCptL7h"
      },
      "source": [
        "Załadowanie potrzebnych bibliotek."
      ]
    },
    {
      "cell_type": "code",
      "metadata": {
        "colab": {
          "base_uri": "https://localhost:8080/"
        },
        "id": "eWZn_X65kjcJ",
        "outputId": "75410b79-6e68-4912-dee5-cf8df60cd29f"
      },
      "source": [
        "import numpy as np\n",
        "import pandas as pd\n",
        "from sklearn.svm import LinearSVC\n",
        "from sklearn.svm import SVC\n",
        "from sklearn import svm\n",
        "from sklearn.model_selection import train_test_split\n",
        "from sklearn.utils import shuffle\n",
        "import sklearn.metrics as mt\n",
        "import sklearn.decomposition as dcmp\n",
        "import sklearn.impute as impute\n",
        "import sklearn.preprocessing as prprc\n",
        "from sklearn.utils import resample\n",
        "import array\n",
        "import copy \n",
        "from collections import Counter\n",
        "from imblearn.over_sampling import SMOTE"
      ],
      "execution_count": null,
      "outputs": [
        {
          "name": "stderr",
          "output_type": "stream",
          "text": [
            "/usr/local/lib/python3.7/dist-packages/sklearn/externals/six.py:31: FutureWarning: The module is deprecated in version 0.21 and will be removed in version 0.23 since we've dropped support for Python 2.7. Please rely on the official version of six (https://pypi.org/project/six/).\n",
            "  \"(https://pypi.org/project/six/).\", FutureWarning)\n",
            "/usr/local/lib/python3.7/dist-packages/sklearn/utils/deprecation.py:144: FutureWarning: The sklearn.neighbors.base module is  deprecated in version 0.22 and will be removed in version 0.24. The corresponding classes / functions should instead be imported from sklearn.neighbors. Anything that cannot be imported from sklearn.neighbors is now part of the private API.\n",
            "  warnings.warn(message, FutureWarning)\n"
          ]
        }
      ]
    },
    {
      "cell_type": "markdown",
      "metadata": {
        "id": "li2WGDLErUCc"
      },
      "source": [
        "Załadowanie danych z pliku csv"
      ]
    },
    {
      "cell_type": "code",
      "metadata": {
        "id": "ejl_UC6uZaGM"
      },
      "source": [
        "test = pd.read_csv(\"/content/test.csv\")\n",
        "train1 = pd.read_csv(\"/content/train1.csv\")"
      ],
      "execution_count": null,
      "outputs": []
    },
    {
      "cell_type": "markdown",
      "metadata": {
        "id": "ywkc-HxarJbX"
      },
      "source": [
        "Funkcje do przygotowania danych i oceny modelu"
      ]
    },
    {
      "cell_type": "code",
      "metadata": {
        "id": "W9njAMD_la4c"
      },
      "source": [
        "\n",
        "\n",
        "def nulls_percentage(data):\n",
        "    nulls = data.isnull().sum().to_frame()\n",
        "    data_size = data.count().to_frame().max().iloc[0]\n",
        "    nulls['Percent missing'] = 100 * nulls / data_size\n",
        "    nulls = nulls[nulls[0] > 0].sort_values(by = 0, ascending=False)\n",
        "    return nulls\n",
        "\n",
        "def product_split(data):\n",
        "    data['Product_Info_n'] = data['Product_Info_2'].str[1:].astype('int64')\n",
        "    data['Product_Info_2'] = data['Product_Info_2'].str[0:1]\n",
        "\n",
        "    data['Product_Info_2'] = data['Product_Info_2'].replace({\"A\": 1, \"B\": 2, \"C\": 3, \"D\": 4, \"E\": 5})\n",
        "    return data\n",
        "\n",
        "def is_outlier(x, alpha = 0.95):\n",
        "    if x.dtype == 'float64':\n",
        "        a = (1 - alpha) / 2\n",
        "        ql, qu = np.quantile(x[~np.isnan(x)], q=(a, 1 - a))\n",
        "\n",
        "        outliers = np.logical_or(x < ql, x > qu)\n",
        "    elif x.dtype == 'int64':\n",
        "        # Brak outlierów dla całkowitych\n",
        "        outliers = np.repeat(False, x.size).astype('bool')\n",
        "    else:\n",
        "        raise ValueError(\"nie mozna okreslic outlierow na takim typie danych\")\n",
        "\n",
        "    return outliers\n",
        "\n",
        "def fix_outliers(x, alpha = 0.95):\n",
        "    result = x.copy()\n",
        "    if x.dtype == 'float64':\n",
        "        a = (1 - alpha) / 2\n",
        "        x_nans = np.isnan(x)\n",
        "        ql, qu = np.quantile(x[np.logical_not(x_nans)], q=(a, 1 - a))\n",
        "\n",
        "        replace_lower = np.nan_to_num(result, ql + 1) < ql\n",
        "        replace_upper = np.nan_to_num(result, qu - 1) > qu\n",
        "        result[replace_lower] = ql\n",
        "        result[replace_upper] = qu\n",
        "    elif x.dtype != 'int64':\n",
        "        raise ValueError(\"nie mozna okreslic outlierow na takim typie danych\")\n",
        "\n",
        "    return result\n",
        "\n",
        "\n",
        "def prepare_data(data, del_threshold = None, fill_in_func = 'mean',\n",
        "                      scaling = True,\n",
        "                      outliers_cols = None,\n",
        "                      outliers_alpha = None,\n",
        "                      outliers_method = 'fix',\n",
        "                      to_numpy = False):\n",
        "\n",
        "    data_ = copy.deepcopy(data)\n",
        "\n",
        "    ids = data_['Id']\n",
        "    data_ = data_.drop('Id', axis = 1)\n",
        "\n",
        "    target_name = 'Response'\n",
        "    if target_name in data_.columns:\n",
        "        target = data_[target_name]\n",
        "        data_ = data_.drop(target_name, axis = 1)\n",
        "    else: \n",
        "        target = None\n",
        "        \n",
        "    target = pd.Series(target)\n",
        "    target.index = ids\n",
        "    # Rodzielenie kolumny stringowej i zamiana na liczbowa \n",
        "    data_ = product_split(data_)\n",
        "    \n",
        "    # Uzupelnianie list z kolumnami do usuniecia i do wypelnienia\n",
        "    to_be_deleted = []\n",
        "    nulls = nulls_percentage(data_)\n",
        "    if del_threshold is not None:\n",
        "        for i in range(len(nulls)):\n",
        "            if nulls['Percent missing'][i] >= del_threshold:\n",
        "                to_be_deleted.append(nulls.index[i])\n",
        "    \n",
        "    # Usuniecie kolumn\n",
        "    data_ = data_.drop(to_be_deleted, axis = 1)\n",
        "    \n",
        "    # Usuniecie/naprawa outlierów\n",
        "    if outliers_alpha is not None:\n",
        "        assert isinstance(outliers_alpha, float), \\\n",
        "            'outliers_alpha musi być liczbą z przedziału (0, 1)'\n",
        "\n",
        "        cols = set(data_.columns.values)\n",
        "        if outliers_cols is not None:\n",
        "            cols = cols.intersection(set(outliers_cols))\n",
        "\n",
        "        if outliers_method == 'remove':\n",
        "            outliers = np.repeat(False, data_.shape[0]).astype('bool')\n",
        "            for current_var in cols:\n",
        "                x = data_.loc[:, current_var]\n",
        "                outliers = np.logical_or(outliers, is_outlier(x, outliers_alpha))\n",
        "\n",
        "            data_ = data_[~outliers.values]\n",
        "            target = target[~outliers.values]\n",
        "            ids = ids[~outliers.values]\n",
        "        elif outliers_method == 'fix':\n",
        "            for current_var in cols:\n",
        "                data_[current_var] = fix_outliers(data_[current_var].values,\n",
        "                                                  outliers_alpha)\n",
        "                \n",
        "    # Wypełnienie nulli\n",
        "    imputer = impute.SimpleImputer(strategy = fill_in_func)\n",
        "    data_ = pd.DataFrame(imputer.fit_transform(data_), columns = data_.columns)\n",
        "\n",
        "    if scaling:\n",
        "        scaler = prprc.StandardScaler()\n",
        "        data_ = pd.DataFrame(scaler.fit_transform(data_), columns = data_.columns)\n",
        "    else:\n",
        "        scaler = None\n",
        "\n",
        "   \n",
        "\n",
        "    if to_numpy:\n",
        "        data_ = data_.to_numpy()\n",
        "        target = target.to_numpy()\n",
        "        \n",
        "    return (data_, target, to_be_deleted, imputer, scaler, to_numpy)\n",
        "    \n",
        "def rearrange_classes(y):\n",
        "  y = np.array(y)\n",
        "  a = array.array(\"i\", [])\n",
        "  for i in y:\n",
        "    if i > 4:\n",
        "      a.append(1)\n",
        "    else:\n",
        "      a.append(0)\n",
        "  return a\n",
        "\n"
      ],
      "execution_count": null,
      "outputs": []
    },
    {
      "cell_type": "markdown",
      "metadata": {
        "id": "bb2jJt1Xs41i"
      },
      "source": [
        "Przeprowadzenie preprocessingu ze skalowaniem i naprawieniem outlierów."
      ]
    },
    {
      "cell_type": "code",
      "metadata": {
        "id": "1_l5KaW8lbLO"
      },
      "source": [
        "\n",
        "data_params = dict(del_threshold=0.05,\n",
        "                   fill_in_func='mean',\n",
        "                   outliers_cols=None,\n",
        "                   outliers_alpha=None,\n",
        "                   outliers_method='fix',\n",
        "                   scaling=True,\n",
        "                   to_numpy=True)\n",
        "\n",
        "transf_data = prepare_data(train1, **data_params)\n",
        "x_train, y_train = transf_data[0:2]"
      ],
      "execution_count": null,
      "outputs": []
    },
    {
      "cell_type": "code",
      "metadata": {
        "colab": {
          "base_uri": "https://localhost:8080/"
        },
        "id": "ScvKV5GXN8Mr",
        "outputId": "71a40844-75fb-4bce-b1bc-8a204c5e7373"
      },
      "source": [
        "data_params = dict(fill_in_func='mean',\n",
        "                   outliers_cols=None,\n",
        "                   outliers_alpha=None,\n",
        "                   outliers_method='fix',\n",
        "                   scaling=True,\n",
        "                   to_numpy=True)\n",
        "\n",
        "transf_data1 = pd.DataFrame(prepare_data(test, **data_params))\n",
        "x_test, y_test = transf_data1[0][0:2]\n",
        "\n",
        "x_test = pd.DataFrame(x_test)[list(pd.DataFrame(x_train).columns)]\n"
      ],
      "execution_count": null,
      "outputs": [
        {
          "name": "stderr",
          "output_type": "stream",
          "text": [
            "/usr/local/lib/python3.7/dist-packages/pandas/core/internals/construction.py:305: VisibleDeprecationWarning: Creating an ndarray from ragged nested sequences (which is a list-or-tuple of lists-or-tuples-or ndarrays with different lengths or shapes) is deprecated. If you meant to do this, you must specify 'dtype=object' when creating the ndarray\n",
            "  values = np.array([convert(v) for v in values])\n"
          ]
        }
      ]
    },
    {
      "cell_type": "markdown",
      "metadata": {
        "id": "-c60751ArgSM"
      },
      "source": [
        "Zmiana klasyfikacji na binarną."
      ]
    },
    {
      "cell_type": "code",
      "metadata": {
        "id": "Hb12M6xG4GUZ"
      },
      "source": [
        "y_re_train = np.array(rearrange_classes(y_train))\n",
        "y_re_test = np.array(rearrange_classes(y_test))"
      ],
      "execution_count": null,
      "outputs": []
    },
    {
      "cell_type": "code",
      "metadata": {
        "id": "skppS_eKYh3p"
      },
      "source": [
        "SMOTE = SMOTE()"
      ],
      "execution_count": null,
      "outputs": []
    },
    {
      "cell_type": "markdown",
      "metadata": {
        "id": "-IBoUK4Psu9T"
      },
      "source": [
        "Zbalansowanie zbiorów metodą oversamplingu.\n"
      ]
    },
    {
      "cell_type": "code",
      "metadata": {
        "colab": {
          "base_uri": "https://localhost:8080/"
        },
        "id": "GMbvLfQprVJV",
        "outputId": "ab5e30ee-ecfe-40ee-cdfc-9d3a5d2905ff"
      },
      "source": [
        "x_train_SMOTE, y_re_train_SMOTE = SMOTE.fit_resample(x_train, y_re_train)\n",
        "x_test_SMOTE, y_re_test_SMOTE = SMOTE.fit_resample(x_test, y_re_test)"
      ],
      "execution_count": null,
      "outputs": [
        {
          "name": "stderr",
          "output_type": "stream",
          "text": [
            "/usr/local/lib/python3.7/dist-packages/sklearn/utils/deprecation.py:87: FutureWarning: Function safe_indexing is deprecated; safe_indexing is deprecated in version 0.22 and will be removed in version 0.24.\n",
            "  warnings.warn(msg, category=FutureWarning)\n",
            "/usr/local/lib/python3.7/dist-packages/sklearn/utils/deprecation.py:87: FutureWarning: Function safe_indexing is deprecated; safe_indexing is deprecated in version 0.22 and will be removed in version 0.24.\n",
            "  warnings.warn(msg, category=FutureWarning)\n"
          ]
        }
      ]
    },
    {
      "cell_type": "code",
      "metadata": {
        "colab": {
          "base_uri": "https://localhost:8080/"
        },
        "id": "eRx-dFsJKEHp",
        "outputId": "126f6a75-dc5b-4f58-be09-f2449cfe238c"
      },
      "source": [
        "y_re_test_SMOTE.shape"
      ],
      "execution_count": null,
      "outputs": [
        {
          "data": {
            "text/plain": [
              "(14812,)"
            ]
          },
          "execution_count": 13,
          "metadata": {
            "tags": []
          },
          "output_type": "execute_result"
        }
      ]
    },
    {
      "cell_type": "code",
      "metadata": {
        "colab": {
          "base_uri": "https://localhost:8080/"
        },
        "id": "P76Bok2mY3_3",
        "outputId": "76af9277-1d91-401a-842d-c4d4322b8d2e"
      },
      "source": [
        "x_train_SMOTE.shape"
      ],
      "execution_count": null,
      "outputs": [
        {
          "data": {
            "text/plain": [
              "(14844, 115)"
            ]
          },
          "execution_count": 14,
          "metadata": {
            "tags": []
          },
          "output_type": "execute_result"
        }
      ]
    },
    {
      "cell_type": "markdown",
      "metadata": {
        "id": "yoRIcRV0rrwa"
      },
      "source": [
        "Model liniowy "
      ]
    },
    {
      "cell_type": "code",
      "metadata": {
        "colab": {
          "base_uri": "https://localhost:8080/"
        },
        "id": "tZTY_JUHn9KG",
        "outputId": "62c71d4f-bb5d-49fd-947f-2c3a3ed51af4"
      },
      "source": [
        "#%%\n",
        "model_L = LinearSVC(C=1, dual=False)\n",
        "\n",
        "model_L.fit(x_train_SMOTE,y_re_train_SMOTE)"
      ],
      "execution_count": null,
      "outputs": [
        {
          "data": {
            "text/plain": [
              "LinearSVC(C=1, class_weight=None, dual=False, fit_intercept=True,\n",
              "          intercept_scaling=1, loss='squared_hinge', max_iter=1000,\n",
              "          multi_class='ovr', penalty='l2', random_state=None, tol=0.0001,\n",
              "          verbose=0)"
            ]
          },
          "execution_count": 15,
          "metadata": {
            "tags": []
          },
          "output_type": "execute_result"
        }
      ]
    },
    {
      "cell_type": "code",
      "metadata": {
        "id": "GLQgMSsW3TKB"
      },
      "source": [
        "pred_L = model_L.predict(x_test_SMOTE)"
      ],
      "execution_count": null,
      "outputs": []
    },
    {
      "cell_type": "code",
      "metadata": {
        "colab": {
          "base_uri": "https://localhost:8080/"
        },
        "id": "SpxO5erR3Gjb",
        "outputId": "34f14252-5f9e-44c0-972a-e3aa8c3f5ae3"
      },
      "source": [
        "print(mt.classification_report(y_re_test_SMOTE, pred_L))"
      ],
      "execution_count": null,
      "outputs": [
        {
          "name": "stdout",
          "output_type": "stream",
          "text": [
            "              precision    recall  f1-score   support\n",
            "\n",
            "           0       0.62      0.53      0.57      7406\n",
            "           1       0.59      0.68      0.63      7406\n",
            "\n",
            "    accuracy                           0.60     14812\n",
            "   macro avg       0.61      0.60      0.60     14812\n",
            "weighted avg       0.61      0.60      0.60     14812\n",
            "\n"
          ]
        }
      ]
    },
    {
      "cell_type": "markdown",
      "metadata": {
        "id": "ASjV38i3rwe-"
      },
      "source": [
        "Model z jądrem RBF."
      ]
    },
    {
      "cell_type": "code",
      "metadata": {
        "id": "7xzGO_r3o-t9"
      },
      "source": [
        "model_R = SVC(kernel=\"rbf\",  C=1,  max_iter=10000)"
      ],
      "execution_count": null,
      "outputs": []
    },
    {
      "cell_type": "code",
      "metadata": {
        "colab": {
          "base_uri": "https://localhost:8080/"
        },
        "id": "R8sZHgOOojMB",
        "outputId": "2258d765-2c69-407a-a4b2-e79c5e704028"
      },
      "source": [
        "model_R.fit(x_train_SMOTE, y_re_train_SMOTE)\n",
        "\n",
        "# Ocena modelu\n",
        "\n",
        "\n",
        "#%%\n",
        "pred_R = model_R.predict(x_test_SMOTE)\n"
      ],
      "execution_count": null,
      "outputs": [
        {
          "name": "stderr",
          "output_type": "stream",
          "text": [
            "/usr/local/lib/python3.7/dist-packages/sklearn/svm/_base.py:231: ConvergenceWarning: Solver terminated early (max_iter=10000).  Consider pre-processing your data with StandardScaler or MinMaxScaler.\n",
            "  % self.max_iter, ConvergenceWarning)\n"
          ]
        }
      ]
    },
    {
      "cell_type": "code",
      "metadata": {
        "colab": {
          "base_uri": "https://localhost:8080/"
        },
        "id": "bYZFP5L5yWwM",
        "outputId": "ec318bc0-0351-4e50-e8f4-875f8cb4e944"
      },
      "source": [
        "print(mt.classification_report(y_re_test_SMOTE, pred_R))"
      ],
      "execution_count": null,
      "outputs": [
        {
          "name": "stdout",
          "output_type": "stream",
          "text": [
            "              precision    recall  f1-score   support\n",
            "\n",
            "           0       0.57      0.50      0.53      7406\n",
            "           1       0.55      0.62      0.59      7406\n",
            "\n",
            "    accuracy                           0.56     14812\n",
            "   macro avg       0.56      0.56      0.56     14812\n",
            "weighted avg       0.56      0.56      0.56     14812\n",
            "\n"
          ]
        }
      ]
    },
    {
      "cell_type": "markdown",
      "metadata": {
        "id": "Tw7D9pjEsndU"
      },
      "source": [
        "Model wielomianowy"
      ]
    },
    {
      "cell_type": "code",
      "metadata": {
        "id": "3pIkmAG6lOi7"
      },
      "source": [
        "model_P = SVC(kernel=\"poly\")"
      ],
      "execution_count": null,
      "outputs": []
    },
    {
      "cell_type": "code",
      "metadata": {
        "id": "e5ObX1NNlOuY"
      },
      "source": [
        "model_P.fit(x_train_SMOTE, y_re_train_SMOTE)\n",
        "\n",
        "# Ocena modelu\n",
        "\n",
        "\n",
        "#%%\n",
        "pred_P = model_P.predict(x_test_SMOTE)"
      ],
      "execution_count": null,
      "outputs": []
    },
    {
      "cell_type": "code",
      "metadata": {
        "colab": {
          "base_uri": "https://localhost:8080/"
        },
        "id": "itCJJpUSlO4u",
        "outputId": "947f1798-ea04-4d8d-e90b-9c30da9b1f47"
      },
      "source": [
        "print(mt.classification_report(y_re_test_SMOTE, pred_P))"
      ],
      "execution_count": null,
      "outputs": [
        {
          "name": "stdout",
          "output_type": "stream",
          "text": [
            "              precision    recall  f1-score   support\n",
            "\n",
            "           0       0.71      0.16      0.27      7406\n",
            "           1       0.53      0.93      0.67      7406\n",
            "\n",
            "    accuracy                           0.55     14812\n",
            "   macro avg       0.62      0.55      0.47     14812\n",
            "weighted avg       0.62      0.55      0.47     14812\n",
            "\n"
          ]
        }
      ]
    },
    {
      "cell_type": "markdown",
      "metadata": {
        "id": "2imsya0nr25I"
      },
      "source": [
        "Funkcje do obliczania odległości Mahalanobisa i macierzy K związanej z jądrem k Mahalanobisa.\n"
      ]
    },
    {
      "cell_type": "code",
      "metadata": {
        "id": "fMnrcXx3pyW_"
      },
      "source": [
        "def mahalanobis(x=None, data=None, cov=None):\n",
        "\n",
        "    x_mu = x - np.mean(data)\n",
        "    inv_covmat = np.linalg.inv(cov)\n",
        "    left = np.dot(x_mu, inv_covmat)\n",
        "    mahal = np.dot(left, x_mu.T)\n",
        "    mahal = mahal.diagonal()\n",
        "    return mahal.sum()/mahal.size"
      ],
      "execution_count": null,
      "outputs": []
    },
    {
      "cell_type": "code",
      "metadata": {
        "id": "EdDMhGoepyiU"
      },
      "source": [
        "def mahalanobisKernelGramMatrixFull(X1, X2, delta=0.5):\n",
        "    \"\"\"(Pre)calculates Gram Matrix K\"\"\"\n",
        "\n",
        "    cov = np.cov(X1.values.T)\n",
        "    m = mahalanobis(X1, X2, cov)\n",
        "    Q_inv = np.linalg.inv(cov)\n",
        "    gram_matrix = np.zeros((X1.shape[0], X2.shape[0]))\n",
        "    X1 = np.array(X1)\n",
        "    X2 = np.array(X2)\n",
        "    for i, x1 in enumerate(X1):\n",
        "        for j, x2 in enumerate(X2):\n",
        "            x = x1.flatten()\n",
        "            z = x2.flatten()\n",
        "\n",
        "            gram_matrix[i, j] = np.exp(- np.matmul(np.matmul((x-z).transpose(), Q_inv), x-z)*delta/m)\n",
        "    gram_matrix = pd.DataFrame(gram_matrix)\n",
        "    return gram_matrix"
      ],
      "execution_count": null,
      "outputs": []
    },
    {
      "cell_type": "markdown",
      "metadata": {
        "id": "WXRu9-7HsI5K"
      },
      "source": [
        "Model z jądrem Mahalanobisa."
      ]
    },
    {
      "cell_type": "code",
      "metadata": {
        "id": "k7kX4_nSaCUO"
      },
      "source": [
        "x1 = pd.DataFrame(x_train_SMOTE)\n",
        "K =mahalanobisKernelGramMatrixFull(x1,x1)"
      ],
      "execution_count": null,
      "outputs": []
    },
    {
      "cell_type": "code",
      "metadata": {
        "id": "Q7kSYktzaGtU"
      },
      "source": [
        "x2 = pd.DataFrame(x_test_SMOTE)\n",
        "K_test = mahalanobisKernelGramMatrixFull(x2, x1)"
      ],
      "execution_count": null,
      "outputs": []
    },
    {
      "cell_type": "code",
      "metadata": {
        "colab": {
          "base_uri": "https://localhost:8080/"
        },
        "id": "-hwuFVKxIL_j",
        "outputId": "75a7391a-0ab0-4340-afbd-2db27239daf8"
      },
      "source": [
        "model = SVC( kernel=\"precomputed\", C=1000, max_iter=9)\n",
        "model.fit(K, y_re_train_SMOTE)\n",
        "\n",
        "print(model)"
      ],
      "execution_count": null,
      "outputs": [
        {
          "name": "stdout",
          "output_type": "stream",
          "text": [
            "SVC(C=1000, break_ties=False, cache_size=200, class_weight=None, coef0=0.0,\n",
            "    decision_function_shape='ovr', degree=3, gamma='scale',\n",
            "    kernel='precomputed', max_iter=9, probability=False, random_state=None,\n",
            "    shrinking=True, tol=0.001, verbose=False)\n"
          ]
        },
        {
          "name": "stderr",
          "output_type": "stream",
          "text": [
            "/usr/local/lib/python3.7/dist-packages/sklearn/svm/_base.py:231: ConvergenceWarning: Solver terminated early (max_iter=9).  Consider pre-processing your data with StandardScaler or MinMaxScaler.\n",
            "  % self.max_iter, ConvergenceWarning)\n"
          ]
        }
      ]
    },
    {
      "cell_type": "code",
      "metadata": {
        "colab": {
          "base_uri": "https://localhost:8080/"
        },
        "id": "XSkGOQk1IZ2D",
        "outputId": "b4aa48eb-e3c4-4572-c571-ebf9665d3a57"
      },
      "source": [
        "pred = model.predict(K_test)\n",
        "print(mt.classification_report(y_re_test_SMOTE, pred))"
      ],
      "execution_count": null,
      "outputs": [
        {
          "name": "stdout",
          "output_type": "stream",
          "text": [
            "              precision    recall  f1-score   support\n",
            "\n",
            "           0       0.54      0.26      0.35      7406\n",
            "           1       0.51      0.78      0.62      7406\n",
            "\n",
            "    accuracy                           0.52     14812\n",
            "   macro avg       0.52      0.52      0.48     14812\n",
            "weighted avg       0.52      0.52      0.48     14812\n",
            "\n"
          ]
        }
      ]
    },
    {
      "cell_type": "code",
      "metadata": {
        "colab": {
          "base_uri": "https://localhost:8080/"
        },
        "id": "-cqU8wr_roFM",
        "outputId": "64236761-f5f9-4d47-cfba-7cc2db975513"
      },
      "source": [
        "mt.confusion_matrix(y_re_test_SMOTE, pred)"
      ],
      "execution_count": null,
      "outputs": [
        {
          "data": {
            "text/plain": [
              "array([[1909, 5497],\n",
              "       [1656, 5750]])"
            ]
          },
          "execution_count": 75,
          "metadata": {
            "tags": []
          },
          "output_type": "execute_result"
        }
      ]
    },
    {
      "cell_type": "markdown",
      "metadata": {
        "id": "DROkyAtcsOol"
      },
      "source": [
        "Zapis modelu do formatu .sav"
      ]
    },
    {
      "cell_type": "code",
      "metadata": {
        "id": "6iwf2R5XZ89P"
      },
      "source": [
        "import pickle\n",
        "filename = '/content/mahal_model.sav'\n",
        "pickle.dump(model, open(filename, 'wb'))"
      ],
      "execution_count": null,
      "outputs": []
    },
    {
      "cell_type": "markdown",
      "metadata": {
        "id": "uyVBdNuQsUEJ"
      },
      "source": [
        "Odczyt modelu."
      ]
    },
    {
      "cell_type": "code",
      "metadata": {
        "colab": {
          "base_uri": "https://localhost:8080/"
        },
        "id": "0Xon4NPuanCg",
        "outputId": "77ec2dd5-5e69-402d-9f46-bbaaed1019e0"
      },
      "source": [
        "import pickle\n",
        "filename = '/content/mahal_model.sav'\n",
        "loaded_model = pickle.load(open(filename, 'rb'))\n",
        "print(loaded_model)"
      ],
      "execution_count": null,
      "outputs": [
        {
          "name": "stdout",
          "output_type": "stream",
          "text": [
            "SVC(C=1000, break_ties=False, cache_size=200, class_weight=None, coef0=0.0,\n",
            "    decision_function_shape='ovr', degree=3, gamma='scale',\n",
            "    kernel='precomputed', max_iter=9, probability=False, random_state=None,\n",
            "    shrinking=True, tol=0.001, verbose=False)\n"
          ]
        }
      ]
    },
    {
      "cell_type": "markdown",
      "metadata": {
        "id": "Nydy6uFLsccZ"
      },
      "source": [
        "Macierz K"
      ]
    },
    {
      "cell_type": "code",
      "metadata": {
        "colab": {
          "base_uri": "https://localhost:8080/"
        },
        "id": "Fp21SUH7t5aI",
        "outputId": "41a05f6a-09e0-44e6-e3d2-edda69085a63"
      },
      "source": [
        "print(K)"
      ],
      "execution_count": null,
      "outputs": [
        {
          "name": "stdout",
          "output_type": "stream",
          "text": [
            "          0         1         2      ...     14841     14842     14843\n",
            "0      1.000000  0.858854  0.512305  ...  0.660348  0.526623  0.720025\n",
            "1      0.858854  1.000000  0.534114  ...  0.631837  0.504329  0.708315\n",
            "2      0.512305  0.534114  1.000000  ...  0.442861  0.338122  0.505827\n",
            "3      0.383409  0.428929  0.283821  ...  0.321604  0.243146  0.352029\n",
            "4      0.823200  0.767267  0.492098  ...  0.608641  0.448307  0.748232\n",
            "...         ...       ...       ...  ...       ...       ...       ...\n",
            "14839  0.757737  0.768140  0.526193  ...  0.660426  0.519013  0.718719\n",
            "14840  0.495620  0.476501  0.343639  ...  0.404825  0.306390  0.458449\n",
            "14841  0.660348  0.631837  0.442861  ...  1.000000  0.442927  0.620394\n",
            "14842  0.526623  0.504329  0.338122  ...  0.442927  1.000000  0.469345\n",
            "14843  0.720025  0.708315  0.505827  ...  0.620394  0.469345  1.000000\n",
            "\n",
            "[14844 rows x 14844 columns]\n"
          ]
        }
      ]
    },
    {
      "cell_type": "code",
      "metadata": {
        "colab": {
          "base_uri": "https://localhost:8080/"
        },
        "id": "GYu3btxOxzD5",
        "outputId": "cd0c074a-fec1-427c-d9c8-810ccb03dad6"
      },
      "source": [
        "x_te_SMOTE.shape"
      ],
      "execution_count": null,
      "outputs": [
        {
          "data": {
            "text/plain": [
              "(14812, 115)"
            ]
          },
          "execution_count": 81,
          "metadata": {
            "tags": []
          },
          "output_type": "execute_result"
        }
      ]
    }
  ]
}